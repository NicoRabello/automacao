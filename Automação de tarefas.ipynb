{
 "cells": [
  {
   "cell_type": "markdown",
   "id": "3e045853",
   "metadata": {},
   "source": [
    "# Problema\n",
    "\n",
    "- Buscar dados de valores das ações\n",
    "- Criar as análises solicitadas\n",
    "- Enviar email com resultados das análises"
   ]
  },
  {
   "cell_type": "markdown",
   "id": "433d9379",
   "metadata": {},
   "source": [
    "# Passo um - busca de dados"
   ]
  },
  {
   "cell_type": "markdown",
   "id": "960a4f5a",
   "metadata": {},
   "source": [
    "# Bibliotecas"
   ]
  },
  {
   "cell_type": "code",
   "execution_count": null,
   "id": "9f76fdff",
   "metadata": {},
   "outputs": [],
   "source": [
    "import yfinance"
   ]
  },
  {
   "cell_type": "code",
   "execution_count": null,
   "id": "b7ea6532",
   "metadata": {},
   "outputs": [],
   "source": [
    "ticker = input(\"ação desejada: \")\n",
    "periodo = input(\"Periodo desejado: \")\n",
    "dados = yfinance.Ticker(ticker).history(periodo)\n",
    "fechamento = dados.Close\n",
    "fechamento.plot()"
   ]
  },
  {
   "cell_type": "markdown",
   "id": "bb557654",
   "metadata": {},
   "source": [
    "# Passo dois - Análises\n",
    "- Cotação máxima\n",
    "- cotação mínima\n",
    "- Cotação atual"
   ]
  },
  {
   "cell_type": "code",
   "execution_count": null,
   "id": "06a5a375",
   "metadata": {},
   "outputs": [],
   "source": [
    "maxima = fechamento.max()\n",
    "minima = fechamento.min()\n",
    "atual = fechamento[-1]"
   ]
  },
  {
   "cell_type": "code",
   "execution_count": null,
   "id": "02ba7439",
   "metadata": {},
   "outputs": [],
   "source": [
    "print(\"Cotação mais alta: \", maxima, \"\\nCotação mínima: \", minima, \"\\nCotação atual: \", atual)"
   ]
  },
  {
   "cell_type": "markdown",
   "id": "4462968d",
   "metadata": {},
   "source": [
    "# Passo três - envio de email\n",
    "- Abrir uma nova aba e digitar o endereço\n",
    "- Botao escrever\n",
    "- Preencher destinatário\n",
    "- Preencher assunto\n",
    "- Escrever email\n",
    "- Enviar"
   ]
  },
  {
   "cell_type": "code",
   "execution_count": null,
   "id": "56a8c42a",
   "metadata": {},
   "outputs": [],
   "source": [
    "import pyautogui\n",
    "import pyperclip"
   ]
  },
  {
   "cell_type": "code",
   "execution_count": null,
   "id": "ef68aca6",
   "metadata": {},
   "outputs": [],
   "source": [
    "pyautogui.PAUSE = 2\n",
    "\n",
    "pyautogui.hotkey(\"ctrl\", \"n\")\n",
    "pyperclip.copy(\"www.gmail.com\")\n",
    "pyautogui.hotkey(\"ctrl\", \"v\")\n",
    "pyautogui.hotkey(\"enter\")\n",
    "pyautogui.click(x=158, y=203)\n",
    "\n",
    "pyperclip.copy(\"aaaaaaaaaaa@gmail.com\")\n",
    "pyautogui.hotkey(\"ctrl\", \"v\")\n",
    "pyautogui.hotkey(\"tab\")\n",
    "\n",
    "pyperclip.copy(\"Análise diária\")\n",
    "pyautogui.hotkey(\"ctrl\", \"v\")\n",
    "pyautogui.hotkey(\"tab\")\n",
    "\n",
    "mensagem = f\"\"\"\n",
    "Prezado gestor,\n",
    "\n",
    "Seguem as análises dos últimos 12 meses da ação {ticker}:\n",
    "\n",
    "Cotação máxima: R$ {round(maxima)2}\n",
    "Cotação mínima: R$ {round(minima)2}\n",
    "Cotação atual: R$ {round(atual)2}\n",
    "\n",
    "Att;\n",
    "\n",
    "\"\"\"\n",
    "\n",
    "pyperclip.copy(mensagem)\n",
    "pyautogui.hotkey(\"ctrl\", \"v\")\n",
    "\n",
    "pyautogui.click(x=1008, y=1016)\n"
   ]
  },
  {
   "cell_type": "code",
   "execution_count": null,
   "id": "4c801a74",
   "metadata": {},
   "outputs": [],
   "source": [
    "import time\n",
    "time.sleep(5)\n",
    "\n",
    "pyautogui.position()"
   ]
  }
 ],
 "metadata": {
  "kernelspec": {
   "display_name": "Python 3 (ipykernel)",
   "language": "python",
   "name": "python3"
  },
  "language_info": {
   "codemirror_mode": {
    "name": "ipython",
    "version": 3
   },
   "file_extension": ".py",
   "mimetype": "text/x-python",
   "name": "python",
   "nbconvert_exporter": "python",
   "pygments_lexer": "ipython3",
   "version": "3.11.1"
  }
 },
 "nbformat": 4,
 "nbformat_minor": 5
}
